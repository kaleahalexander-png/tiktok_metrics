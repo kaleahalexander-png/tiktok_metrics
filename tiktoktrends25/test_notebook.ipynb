{
 "cells": [
  {
   "cell_type": "code",
   "execution_count": 2,
   "id": "1ec61fc7",
   "metadata": {},
   "outputs": [],
   "source": [
    "import pandas as pd\n",
    "import os\n",
    "cwd = os.getcwd()"
   ]
  },
  {
   "cell_type": "code",
   "execution_count": 3,
   "id": "6e107f87",
   "metadata": {},
   "outputs": [
    {
     "name": "stdout",
     "output_type": "stream",
     "text": [
      "/home/kalex/Projects/tiktoktrends25\n"
     ]
    }
   ],
   "source": [
    "print(cwd)"
   ]
  },
  {
   "cell_type": "code",
   "execution_count": 7,
   "id": "0859e9fc",
   "metadata": {},
   "outputs": [],
   "source": [
    "data_path = \"/data/country_platform_summary_2025(1).csv\""
   ]
  },
  {
   "cell_type": "code",
   "execution_count": 8,
   "id": "380a9402",
   "metadata": {},
   "outputs": [],
   "source": [
    "filepath=cwd + data_path"
   ]
  },
  {
   "cell_type": "code",
   "execution_count": 9,
   "id": "743f4f39",
   "metadata": {},
   "outputs": [
    {
     "name": "stdout",
     "output_type": "stream",
     "text": [
      "/home/kalex/Projects/tiktoktrends25/data/country_platform_summary_2025(1).csv\n"
     ]
    }
   ],
   "source": [
    "print(filepath)"
   ]
  },
  {
   "cell_type": "code",
   "execution_count": 10,
   "id": "6fdfa895",
   "metadata": {},
   "outputs": [],
   "source": [
    "raw_data = pd.read_csv(filepath)"
   ]
  },
  {
   "cell_type": "code",
   "execution_count": 12,
   "id": "01ee5fae",
   "metadata": {},
   "outputs": [
    {
     "data": {
      "text/html": [
       "<div>\n",
       "<style scoped>\n",
       "    .dataframe tbody tr th:only-of-type {\n",
       "        vertical-align: middle;\n",
       "    }\n",
       "\n",
       "    .dataframe tbody tr th {\n",
       "        vertical-align: top;\n",
       "    }\n",
       "\n",
       "    .dataframe thead th {\n",
       "        text-align: right;\n",
       "    }\n",
       "</style>\n",
       "<table border=\"1\" class=\"dataframe\">\n",
       "  <thead>\n",
       "    <tr style=\"text-align: right;\">\n",
       "      <th></th>\n",
       "      <th>country</th>\n",
       "      <th>platform</th>\n",
       "      <th>total_videos</th>\n",
       "      <th>total_views</th>\n",
       "      <th>median_er</th>\n",
       "      <th>p95_views</th>\n",
       "      <th>avg_duration</th>\n",
       "      <th>avg_velocity</th>\n",
       "      <th>avg_comment_ratio</th>\n",
       "      <th>avg_share_rate</th>\n",
       "      <th>avg_save_rate</th>\n",
       "      <th>avg_engagement_per_1k</th>\n",
       "      <th>top_hashtag</th>\n",
       "      <th>top_hashtag_views</th>\n",
       "    </tr>\n",
       "  </thead>\n",
       "  <tbody>\n",
       "    <tr>\n",
       "      <th>0</th>\n",
       "      <td>Ae</td>\n",
       "      <td>TikTok</td>\n",
       "      <td>1017</td>\n",
       "      <td>102064271</td>\n",
       "      <td>0.0900</td>\n",
       "      <td>325484.40</td>\n",
       "      <td>29.7335</td>\n",
       "      <td>13785.7142</td>\n",
       "      <td>0.0077</td>\n",
       "      <td>0.0068</td>\n",
       "      <td>0.0072</td>\n",
       "      <td>92.4015</td>\n",
       "      <td>#FYP</td>\n",
       "      <td>26292844</td>\n",
       "    </tr>\n",
       "    <tr>\n",
       "      <th>1</th>\n",
       "      <td>Ae</td>\n",
       "      <td>YouTube</td>\n",
       "      <td>641</td>\n",
       "      <td>67638733</td>\n",
       "      <td>0.0492</td>\n",
       "      <td>332142.00</td>\n",
       "      <td>41.8721</td>\n",
       "      <td>14381.0054</td>\n",
       "      <td>0.0043</td>\n",
       "      <td>0.0038</td>\n",
       "      <td>0.0040</td>\n",
       "      <td>51.2265</td>\n",
       "      <td>#FYP</td>\n",
       "      <td>18272805</td>\n",
       "    </tr>\n",
       "    <tr>\n",
       "      <th>2</th>\n",
       "      <td>Ar</td>\n",
       "      <td>TikTok</td>\n",
       "      <td>1032</td>\n",
       "      <td>103715112</td>\n",
       "      <td>0.0877</td>\n",
       "      <td>311367.55</td>\n",
       "      <td>29.7025</td>\n",
       "      <td>13126.5611</td>\n",
       "      <td>0.0076</td>\n",
       "      <td>0.0067</td>\n",
       "      <td>0.0071</td>\n",
       "      <td>90.0953</td>\n",
       "      <td>#FYP</td>\n",
       "      <td>27220930</td>\n",
       "    </tr>\n",
       "    <tr>\n",
       "      <th>3</th>\n",
       "      <td>Ar</td>\n",
       "      <td>YouTube</td>\n",
       "      <td>629</td>\n",
       "      <td>57036717</td>\n",
       "      <td>0.0491</td>\n",
       "      <td>271985.20</td>\n",
       "      <td>40.7886</td>\n",
       "      <td>12136.0476</td>\n",
       "      <td>0.0042</td>\n",
       "      <td>0.0037</td>\n",
       "      <td>0.0040</td>\n",
       "      <td>50.4033</td>\n",
       "      <td>#FYP</td>\n",
       "      <td>12738216</td>\n",
       "    </tr>\n",
       "    <tr>\n",
       "      <th>4</th>\n",
       "      <td>Au</td>\n",
       "      <td>TikTok</td>\n",
       "      <td>959</td>\n",
       "      <td>96885399</td>\n",
       "      <td>0.0898</td>\n",
       "      <td>306511.80</td>\n",
       "      <td>29.7404</td>\n",
       "      <td>14376.2279</td>\n",
       "      <td>0.0077</td>\n",
       "      <td>0.0068</td>\n",
       "      <td>0.0073</td>\n",
       "      <td>92.4227</td>\n",
       "      <td>#FYP</td>\n",
       "      <td>26396116</td>\n",
       "    </tr>\n",
       "  </tbody>\n",
       "</table>\n",
       "</div>"
      ],
      "text/plain": [
       "  country platform  total_videos  total_views  median_er  p95_views  \\\n",
       "0      Ae   TikTok          1017    102064271     0.0900  325484.40   \n",
       "1      Ae  YouTube           641     67638733     0.0492  332142.00   \n",
       "2      Ar   TikTok          1032    103715112     0.0877  311367.55   \n",
       "3      Ar  YouTube           629     57036717     0.0491  271985.20   \n",
       "4      Au   TikTok           959     96885399     0.0898  306511.80   \n",
       "\n",
       "   avg_duration  avg_velocity  avg_comment_ratio  avg_share_rate  \\\n",
       "0       29.7335    13785.7142             0.0077          0.0068   \n",
       "1       41.8721    14381.0054             0.0043          0.0038   \n",
       "2       29.7025    13126.5611             0.0076          0.0067   \n",
       "3       40.7886    12136.0476             0.0042          0.0037   \n",
       "4       29.7404    14376.2279             0.0077          0.0068   \n",
       "\n",
       "   avg_save_rate  avg_engagement_per_1k top_hashtag  top_hashtag_views  \n",
       "0         0.0072                92.4015        #FYP           26292844  \n",
       "1         0.0040                51.2265        #FYP           18272805  \n",
       "2         0.0071                90.0953        #FYP           27220930  \n",
       "3         0.0040                50.4033        #FYP           12738216  \n",
       "4         0.0073                92.4227        #FYP           26396116  "
      ]
     },
     "execution_count": 12,
     "metadata": {},
     "output_type": "execute_result"
    }
   ],
   "source": [
    "raw_data.head()"
   ]
  },
  {
   "cell_type": "code",
   "execution_count": null,
   "id": "da5793b8",
   "metadata": {},
   "outputs": [],
   "source": []
  },
  {
   "cell_type": "code",
   "execution_count": null,
   "id": "d12b3afa",
   "metadata": {},
   "outputs": [],
   "source": []
  },
  {
   "cell_type": "code",
   "execution_count": null,
   "id": "79b95fe4",
   "metadata": {},
   "outputs": [],
   "source": []
  },
  {
   "cell_type": "code",
   "execution_count": null,
   "id": "b3b58ded",
   "metadata": {},
   "outputs": [],
   "source": []
  },
  {
   "cell_type": "code",
   "execution_count": null,
   "id": "72e7bf9d",
   "metadata": {},
   "outputs": [],
   "source": []
  },
  {
   "cell_type": "code",
   "execution_count": null,
   "id": "aa07588f",
   "metadata": {},
   "outputs": [],
   "source": []
  }
 ],
 "metadata": {
  "kernelspec": {
   "display_name": "Python (.venv)",
   "language": "python",
   "name": "projects-venv"
  },
  "language_info": {
   "codemirror_mode": {
    "name": "ipython",
    "version": 3
   },
   "file_extension": ".py",
   "mimetype": "text/x-python",
   "name": "python",
   "nbconvert_exporter": "python",
   "pygments_lexer": "ipython3",
   "version": "3.12.3"
  }
 },
 "nbformat": 4,
 "nbformat_minor": 5
}
